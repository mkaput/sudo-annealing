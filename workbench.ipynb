{
 "cells": [
  {
   "cell_type": "markdown",
   "metadata": {},
   "source": [
    "# Sudo-Annealing Workbench"
   ]
  },
  {
   "cell_type": "markdown",
   "metadata": {},
   "source": [
    "Don't forget to run `jupyter nbextension enable --py widgetsnbextension`!"
   ]
  },
  {
   "cell_type": "code",
   "execution_count": 1,
   "metadata": {},
   "outputs": [],
   "source": [
    "from sudo_annealing import workbench, load_pack\n",
    "from sudo_annealing.solvers import all_solvers, abstractcl"
   ]
  },
  {
   "cell_type": "code",
   "execution_count": 2,
   "metadata": {},
   "outputs": [
    {
     "name": "stdout",
     "output_type": "stream",
     "text": [
      "Choose platform:\n",
      "[0] <pyopencl.Platform 'Clover' at 0x7f111ec7a5e0>\n",
      "[1] <pyopencl.Platform 'Intel Gen OCL Driver' at 0x7f111dc50440>\n",
      "[2] <pyopencl.Platform 'Portable Computing Language' at 0x7f1126d7e000>\n",
      "Choice [0]:1\n",
      "Set the environment variable PYOPENCL_CTX='1' to avoid being asked again.\n",
      "Used OpenCL devices:\n",
      "[1] Intel(R) HD Graphics Skylake Halo GT2\n",
      "    OpenCL version: OpenCL 2.0 beignet 1.3\n",
      "    Supported Extensions:\n",
      "    - cl_khr_global_int32_base_atomics\n",
      "    - cl_khr_global_int32_extended_atomics\n",
      "    - cl_khr_local_int32_base_atomics\n",
      "    - cl_khr_local_int32_extended_atomics\n",
      "    - cl_khr_byte_addressable_store\n",
      "    - cl_khr_3d_image_writes\n",
      "    - cl_khr_image2d_from_buffer\n",
      "    - cl_khr_depth_images\n",
      "    - cl_khr_spir\n",
      "    - cl_khr_icd\n",
      "    - cl_intel_accelerator\n",
      "    - cl_intel_subgroups\n",
      "    - cl_intel_subgroups_short\n",
      "    - cl_khr_gl_sharing\n",
      "    - cl_khr_fp16\n"
     ]
    }
   ],
   "source": [
    "abstractcl.init()"
   ]
  },
  {
   "cell_type": "code",
   "execution_count": 3,
   "metadata": {},
   "outputs": [],
   "source": [
    "pack = load_pack('./puzzles/45.txt.gz')"
   ]
  },
  {
   "cell_type": "code",
   "execution_count": 4,
   "metadata": {},
   "outputs": [
    {
     "data": {
      "application/vnd.jupyter.widget-view+json": {
       "model_id": "e7f7548cc2d140a184a7e05428becbf6",
       "version_major": 2,
       "version_minor": 0
      },
      "text/html": [
       "<p>Failed to display Jupyter Widget of type <code>workbench</code>.</p>\n",
       "<p>\n",
       "  If you're reading this message in the Jupyter Notebook or JupyterLab Notebook, it may mean\n",
       "  that the widgets JavaScript is still loading. If this message persists, it\n",
       "  likely means that the widgets JavaScript library is either not installed or\n",
       "  not enabled. See the <a href=\"https://ipywidgets.readthedocs.io/en/stable/user_install.html\">Jupyter\n",
       "  Widgets Documentation</a> for setup instructions.\n",
       "</p>\n",
       "<p>\n",
       "  If you're reading this message in another frontend (for example, a static\n",
       "  rendering on GitHub or <a href=\"https://nbviewer.jupyter.org/\">NBViewer</a>),\n",
       "  it may mean that your frontend doesn't currently support widgets.\n",
       "</p>\n"
      ],
      "text/plain": [
       "workbench(children=(Dropdown(description='Algorithm:', options={'Backtracing, Python': <class 'sudo_annealing.solvers.pydfs.PyDFS'>, 'Backtracing, OpenCL, non-stepping': <class 'sudo_annealing.solvers.cldfs.CLDFS'>}, value=<class 'sudo_annealing.solvers.pydfs.PyDFS'>), HBox(children=(BoundedIntText(value=2145, description='Puzzle:', max=10000), Button(description='Random', style=ButtonStyle()))), Button(description='Run', style=ButtonStyle()), Output()))"
      ]
     },
     "metadata": {},
     "output_type": "display_data"
    }
   ],
   "source": [
    "workbench(all_solvers, pack)"
   ]
  }
 ],
 "metadata": {
  "kernelspec": {
   "display_name": "Python 3",
   "language": "python",
   "name": "python3"
  },
  "language_info": {
   "codemirror_mode": {
    "name": "ipython",
    "version": 3
   },
   "file_extension": ".py",
   "mimetype": "text/x-python",
   "name": "python",
   "nbconvert_exporter": "python",
   "pygments_lexer": "ipython3",
   "version": "3.6.3"
  }
 },
 "nbformat": 4,
 "nbformat_minor": 2
}
